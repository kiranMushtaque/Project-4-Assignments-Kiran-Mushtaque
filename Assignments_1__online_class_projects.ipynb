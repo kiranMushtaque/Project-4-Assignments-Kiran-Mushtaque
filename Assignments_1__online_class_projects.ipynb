{
  "nbformat": 4,
  "nbformat_minor": 0,
  "metadata": {
    "colab": {
      "provenance": [],
      "authorship_tag": "ABX9TyOkjZDqZrYUC1yLhn2vM3du",
      "include_colab_link": true
    },
    "kernelspec": {
      "name": "python3",
      "display_name": "Python 3"
    },
    "language_info": {
      "name": "python"
    }
  },
  "cells": [
    {
      "cell_type": "markdown",
      "metadata": {
        "id": "view-in-github",
        "colab_type": "text"
      },
      "source": [
        "<a href=\"https://colab.research.google.com/github/kiranMushtaque/Project-4-Assignments-Kiran-Mushtaque/blob/main/Assignments_1__online_class_projects.ipynb\" target=\"_parent\"><img src=\"https://colab.research.google.com/assets/colab-badge.svg\" alt=\"Open In Colab\"/></a>"
      ]
    },
    {
      "cell_type": "markdown",
      "source": [
        "# **Project 3: QR Code Encoder/Decoder**"
      ],
      "metadata": {
        "id": "2zGapslESKfn"
      }
    },
    {
      "cell_type": "code",
      "source": [
        "\n",
        "import qrcode\n",
        "\n",
        "def generate_qr(data, filename=\"qrcode.png\"):\n",
        "    qr = qrcode.QRCode(\n",
        "        version=1,\n",
        "        error_correction=qrcode.constants.ERROR_CORRECT_L,\n",
        "        box_size=10,\n",
        "        border=4,\n",
        "    )\n",
        "    qr.add_data(data)\n",
        "    qr.make(fit=True)\n",
        "\n",
        "    img = qr.make_image(fill=\"black\", back_color=\"white\")\n",
        "    img.save(filename)\n",
        "    print(f\"QR Code saved as {filename}\")\n",
        "\n",
        "# Example Run\n",
        "generate_qr(\"https://www.google.com\", \"google_qr.png\")\n"
      ],
      "metadata": {
        "colab": {
          "base_uri": "https://localhost:8080/"
        },
        "id": "wPByGM5oQeh2",
        "outputId": "304d2ce1-d408-4253-ea60-476132a5a184"
      },
      "execution_count": 2,
      "outputs": [
        {
          "output_type": "stream",
          "name": "stdout",
          "text": [
            "QR Code saved as google_qr.png\n"
          ]
        }
      ]
    },
    {
      "cell_type": "markdown",
      "source": [
        "# **project 3 :  Step 3: QR Code Decode**"
      ],
      "metadata": {
        "id": "Ufds_NacSqeu"
      }
    },
    {
      "cell_type": "code",
      "source": [
        "import cv2\n",
        "\n",
        "def decode_qr(image_path):\n",
        "    img = cv2.imread(image_path)\n",
        "    detector = cv2.QRCodeDetector()\n",
        "    data, _, _ = detector.detectAndDecode(img)\n",
        "\n",
        "    if data:\n",
        "        print(\"Decoded QR Code Data:\", data)\n",
        "    else:\n",
        "        print(\"No QR Code found!\")\n",
        "\n",
        "# Example Run\n",
        "decode_qr(\"google_qr.png\")\n"
      ],
      "metadata": {
        "id": "g-zp7cJMS3Ld"
      },
      "execution_count": null,
      "outputs": []
    },
    {
      "cell_type": "markdown",
      "source": [
        "# **Tic-Tac-Toe Game in Python (Google Colab Compatible)**"
      ],
      "metadata": {
        "id": "fdwikaXYSTL1"
      }
    },
    {
      "cell_type": "code",
      "source": [
        "import streamlit as st\n",
        "\n",
        "# Initialize session state variables\n",
        "if \"board\" not in st.session_state:\n",
        "    st.session_state.board = [\" \"] * 9\n",
        "if \"player\" not in st.session_state:\n",
        "    st.session_state.player = \"X\"\n",
        "if \"winner\" not in st.session_state:\n",
        "    st.session_state.winner = None\n",
        "\n",
        "def check_winner():\n",
        "    \"\"\"Check if there is a winner\"\"\"\n",
        "    winning_combinations = [\n",
        "        (0, 1, 2), (3, 4, 5), (6, 7, 8),\n",
        "        (0, 3, 6), (1, 4, 7), (2, 5, 8),\n",
        "        (0, 4, 8), (2, 4, 6)\n",
        "    ]\n",
        "    for combo in winning_combinations:\n",
        "        if st.session_state.board[combo[0]] == st.session_state.board[combo[1]] == st.session_state.board[combo[2]] != \" \":\n",
        "            return st.session_state.board[combo[0]]\n",
        "    return None\n",
        "\n",
        "def tic_tac_toe():\n",
        "    st.subheader(\"🎮 Play Tic-Tac-Toe\")\n",
        "\n",
        "    # Display the board\n",
        "    cols = st.columns(3)\n",
        "    for i in range(9):\n",
        "        with cols[i % 3]:\n",
        "            if st.button(st.session_state.board[i], key=i, disabled=(st.session_state.board[i] != \" \" or st.session_state.winner is not None)):\n",
        "                if st.session_state.winner is None:\n",
        "                    st.session_state.board[i] = st.session_state.player\n",
        "                    st.session_state.winner = check_winner()\n",
        "                    if st.session_state.winner:\n",
        "                        st.success(f\"🎉 Player {st.session_state.winner} wins!\")\n",
        "                    else:\n",
        "                        st.session_state.player = \"O\" if st.session_state.player == \"X\" else \"X\"\n",
        "\n",
        "    # Display result if the game is over\n",
        "    if \" \" not in st.session_state.board and not st.session_state.winner:\n",
        "        st.warning(\"It's a draw!\")\n",
        "\n",
        "    # Restart button\n",
        "    if st.button(\"Restart Game\"):\n",
        "        st.session_state.board = [\" \"] * 9\n",
        "        st.session_state.player = \"X\"\n",
        "        st.session_state.winner = None\n",
        "\n",
        "# Run the game function\n",
        "tic_tac_toe()"
      ],
      "metadata": {
        "id": "dxqKyYBPY0No"
      },
      "execution_count": null,
      "outputs": []
    },
    {
      "cell_type": "markdown",
      "source": [
        "#  Project 5: Binary Search Algorithm Implementation"
      ],
      "metadata": {
        "id": "TSX0bVvPZU9b"
      }
    },
    {
      "cell_type": "code",
      "source": [
        "def binary_search_iterative(arr, target):\n",
        "    \"\"\"Binary Search using Iteration\"\"\"\n",
        "    low, high = 0, len(arr) - 1\n",
        "\n",
        "    while low <= high:\n",
        "        mid = (low + high) // 2\n",
        "\n",
        "        if arr[mid] == target:\n",
        "            return mid  # Element found\n",
        "        elif arr[mid] < target:\n",
        "            low = mid + 1  # Search in right half\n",
        "        else:\n",
        "            high = mid - 1  # Search in left half\n",
        "\n",
        "    return -1  # Element not found\n",
        "\n",
        "def binary_search_recursive(arr, target, low, high):\n",
        "    \"\"\"Binary Search using Recursion\"\"\"\n",
        "    if low > high:\n",
        "        return -1  # Element not found\n",
        "\n",
        "    mid = (low + high) // 2\n",
        "\n",
        "    if arr[mid] == target:\n",
        "        return mid  # Element found\n",
        "    elif arr[mid] < target:\n",
        "        return binary_search_recursive(arr, target, mid + 1, high)  # Search in right half\n",
        "    else:\n",
        "        return binary_search_recursive(arr, target, low, mid - 1)  # Search in left half\n",
        "\n",
        "# Driver Code\n",
        "arr = [2, 3, 4, 10, 15, 20, 25, 30, 35]\n",
        "target = int(input(\"Enter the number to search: \"))\n",
        "\n",
        "# Iterative Search\n",
        "index_iter = binary_search_iterative(arr, target)\n",
        "print(f\"Iterative Binary Search: Element found at index {index_iter}\" if index_iter != -1 else \"Element not found\")\n",
        "\n",
        "# Recursive Search\n",
        "index_rec = binary_search_recursive(arr, target, 0, len(arr) - 1)\n",
        "print(f\"Recursive Binary Search: Element found at index {index_rec}\" if index_rec != -1 else \"Element not found\")\n"
      ],
      "metadata": {
        "id": "vl73KwnFZeZx"
      },
      "execution_count": null,
      "outputs": []
    },
    {
      "cell_type": "markdown",
      "source": [
        "# **Project 6: Bulk File Renamer (Automate file renaming)**"
      ],
      "metadata": {
        "id": "fJm5VMhFZpTu"
      }
    },
    {
      "cell_type": "code",
      "source": [
        "import os\n",
        "\n",
        "def bulk_rename_files(folder_path, prefix, extension):\n",
        "    \"\"\"Rename all files in a folder with a given prefix and numbering.\"\"\"\n",
        "    if not os.path.exists(folder_path):\n",
        "        print(\"Error: Folder path does not exist!\")\n",
        "        return\n",
        "\n",
        "    files = [f for f in os.listdir(folder_path) if f.endswith(extension)]\n",
        "    files.sort()  # Sorting to maintain order\n",
        "\n",
        "    for index, file in enumerate(files, start=1):\n",
        "        old_path = os.path.join(folder_path, file)\n",
        "        new_name = f\"{prefix}_{index}{extension}\"\n",
        "        new_path = os.path.join(folder_path, new_name)\n",
        "\n",
        "        os.rename(old_path, new_path)\n",
        "        print(f\"Renamed: {file} → {new_name}\")\n",
        "\n",
        "    print(\"\\n✅ Bulk Rename Completed!\")\n",
        "\n",
        "# User Inputs\n",
        "folder_path = input(\"Enter the folder path: \")\n",
        "prefix = input(\"Enter the prefix for new filenames: \")\n",
        "extension = input(\"Enter the file extension (e.g., .txt, .jpg): \")\n",
        "\n",
        "# Run the function\n",
        "bulk_rename_files(folder_path, prefix, extension)\n"
      ],
      "metadata": {
        "id": "UEWPVFSNZr5g"
      },
      "execution_count": null,
      "outputs": []
    },
    {
      "cell_type": "markdown",
      "source": [
        "# **Project 7: Weather Program (Fetch real-time weather data)**"
      ],
      "metadata": {
        "id": "dQySW49dZ2AQ"
      }
    },
    {
      "cell_type": "code",
      "source": [
        "import requests\n",
        "\n",
        "def get_weather(city):\n",
        "    \"\"\"Fetch real-time weather data for a given city.\"\"\"\n",
        "    API_KEY = \"api.openweathermap.org/data/3.0/onecall?lat=38.8&lon=12.09&callback=test\"\n",
        "    BASE_URL = \"https://api.openweathermap.org/data/2.5/weather\"\n",
        "\n",
        "    params = {\n",
        "        \"q\": city,\n",
        "        \"appid\": API_KEY,\n",
        "        \"units\": \"metric\"  # Get temperature in Celsius\n",
        "    }\n",
        "\n",
        "    response = requests.get(BASE_URL, params=params)\n",
        "\n",
        "    if response.status_code == 200:\n",
        "        data = response.json()\n",
        "        weather_desc = data[\"weather\"][0][\"description\"].title()\n",
        "        temp = data[\"main\"][\"temp\"]\n",
        "        humidity = data[\"main\"][\"humidity\"]\n",
        "        print(f\"\\n🌍 City: {city}\")\n",
        "        print(f\"🌡️ Temperature: {temp}°C\")\n",
        "        print(f\"💧 Humidity: {humidity}%\")\n",
        "        print(f\"🌤️ Condition: {weather_desc}\\n\")\n",
        "    else:\n",
        "        print(\"❌ Error: City not found! Please enter a valid city name.\")\n",
        "\n",
        "# User Input\n",
        "city_name = input(\"Enter city name: \")\n",
        "get_weather(city_name)\n"
      ],
      "metadata": {
        "id": "oYyTXRD9Z_iR"
      },
      "execution_count": null,
      "outputs": []
    },
    {
      "cell_type": "markdown",
      "source": [
        "# **Project 8: Streamlit Crash Course (Create Python Web Apps)**"
      ],
      "metadata": {
        "id": "HdgEwC2jatD3"
      }
    },
    {
      "cell_type": "code",
      "source": [
        "import streamlit as st\n",
        "\n",
        "# Title of the app\n",
        "st.title(\"🚀 Welcome to Streamlit Crash Course!\")\n",
        "\n",
        "# User Input\n",
        "name = st.text_input(\"Enter your name:\")\n",
        "\n",
        "# Button\n",
        "if st.button(\"Say Hello\"):\n",
        "    st.success(f\"Hello, {name}! 👋 Welcome to Streamlit.\")\n",
        "\n",
        "# Adding an image\n",
        "st.image(\"https://www.streamlit.io/images/brand/streamlit-logo-primary-colormark-darktext.png\", width=250)\n",
        "\n",
        "# Sidebar\n",
        "st.sidebar.header(\"Navigation\")\n",
        "st.sidebar.write(\"Use this sidebar for navigation.\")\n"
      ],
      "metadata": {
        "id": "LLCToOMSaz16"
      },
      "execution_count": null,
      "outputs": []
    },
    {
      "cell_type": "markdown",
      "source": [
        "# **Project 9: Python Streamlit Web App - Country Information Cards**"
      ],
      "metadata": {
        "id": "sZJC0w7dbJiD"
      }
    },
    {
      "cell_type": "code",
      "source": [
        "import streamlit as st\n",
        "import requests\n",
        "\n",
        "# Function to fetch country details\n",
        "def get_country_info(country_name):\n",
        "    url = f\"https://restcountries.com/v3.1/name/{country_name}\"\n",
        "    response = requests.get(url)\n",
        "\n",
        "    if response.status_code == 200:\n",
        "        data = response.json()[0]\n",
        "        country_info = {\n",
        "            \"Name\": data[\"name\"][\"common\"],\n",
        "            \"Capital\": data.get(\"capital\", [\"N/A\"])[0],\n",
        "            \"Population\": f\"{data['population']:,}\",\n",
        "            \"Currency\": list(data[\"currencies\"].keys())[0] if \"currencies\" in data else \"N/A\",\n",
        "            \"Flag\": data[\"flags\"][\"png\"]\n",
        "        }\n",
        "        return country_info\n",
        "    else:\n",
        "        return None\n",
        "\n",
        "# Streamlit UI\n",
        "st.title(\"🌍 Country Information Cards\")\n",
        "\n",
        "# User Input\n",
        "country = st.text_input(\"Enter a country name:\", \"India\")\n",
        "\n",
        "if st.button(\"Get Info\"):\n",
        "    country_data = get_country_info(country)\n",
        "\n",
        "    if country_data:\n",
        "        st.subheader(f\"📍 {country_data['Name']}\")\n",
        "        st.image(country_data[\"Flag\"], width=200)\n",
        "        st.write(f\"**Capital:** {country_data['Capital']}\")\n",
        "        st.write(f\"**Population:** {country_data['Population']}\")\n",
        "        st.write(f\"**Currency:** {country_data['Currency']}\")\n",
        "    else:\n",
        "        st.error(\"❌ Country not found! Please check the name and try again.\")\n"
      ],
      "metadata": {
        "id": "o57ibOrcbO3u"
      },
      "execution_count": null,
      "outputs": []
    }
  ]
}