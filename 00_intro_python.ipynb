{
  "cells": [
    {
      "cell_type": "markdown",
      "metadata": {
        "id": "view-in-github",
        "colab_type": "text"
      },
      "source": [
        "<a href=\"https://colab.research.google.com/github/kiranMushtaque/Project-4-Assignments-Kiran-Mushtaque/blob/main/00_intro_python.ipynb\" target=\"_parent\"><img src=\"https://colab.research.google.com/assets/colab-badge.svg\" alt=\"Open In Colab\"/></a>"
      ]
    },
    {
      "cell_type": "markdown",
      "metadata": {
        "id": "_uG0OVmAT1u9"
      },
      "source": [
        "\n",
        "\n",
        "# **01_add_two_numbers.md**\n",
        "\n",
        "\n",
        "# **Problem Statement**\n",
        "# Write a Python program that takes two integer inputs from the user and calculates their sum. The program should perform the following tasks:\n",
        "\n",
        "# Prompt the user to enter the first number.\n",
        "\n",
        "# Read the input and convert it to an integer.\n",
        "\n",
        "# Prompt the user to enter the second number.\n",
        "\n",
        "# Read the input and convert it to an integer.\n",
        "\n",
        "# Calculate the sum of the two numbers.\n",
        "\n",
        "# Print the total sum with an appropriate message.\n",
        "\n",
        "# The provided solution demonstrates a working implementation of this problem, where the main() function guides the user through the process of entering two numbers and displays their sum.\n",
        "\n",
        "  Another python program to get some practice with\n",
        "variables.  This program asks the user for two\n",
        "integers and prints their sum.\n",
        "\"\"\"\n",
        "\n"
      ]
    },
    {
      "cell_type": "code",
      "execution_count": null,
      "metadata": {
        "colab": {
          "base_uri": "https://localhost:8080/"
        },
        "id": "PgW1a-jOMLJV",
        "outputId": "19b9244a-e37f-4a76-8302-e1c3f9700da0"
      },
      "outputs": [
        {
          "output_type": "stream",
          "name": "stdout",
          "text": [
            "This program adds two numbers.\n",
            "Enter first number: 1\n",
            "Enter second number: 2\n",
            "The total is 3.\n"
          ]
        }
      ],
      "source": [
        "# Solution\n",
        "\n",
        "def main():\n",
        "    print(\"This program adds two numbers.\")\n",
        "    num1 : str = input(\"Enter first number: \")\n",
        "    num1 : int = int(num1)\n",
        "    num2  : str = input(\"Enter second number: \")\n",
        "    num2 : int = int(num2)\n",
        "    total : int = num1 + num2\n",
        "    print(\"The total is \" + str(total) + \".\")\n",
        "\n",
        "\n",
        "# This provided line is required at the end of\n",
        "# Python file to call the main() function.\n",
        "if __name__ == '__main__':\n",
        "    main()"
      ]
    },
    {
      "cell_type": "markdown",
      "metadata": {
        "id": "j7mZAOsCU9gv"
      },
      "source": [
        "# **02_agreement_bot.md**\n",
        "# Problem Statement\n",
        "# Write a program which asks the user what their favorite animal is, and then always responds with \"My favorite animal is also ___!\" (the blank should be filled in with the user-inputted animal, of course).\n",
        "\n",
        "# Here's a sample run of the program (user input is in bold italics - note the space between the prompt and the user input!):\n",
        "\n",
        "# What's your favorite animal? cow\n",
        "\n",
        "# My favorite animal is also cow!\n",
        "\n",
        "\n",
        "# Approach & Explanation\n",
        "\n",
        "# We will use the input() function to take user input.\n",
        "\n",
        "# The user input will be stored in a variable.\n",
        "\n",
        "# Using formatted string (f-string), we will print a response that includes the user's input.\n",
        "\n",
        "# The main() function will contain the logic, and the program will be executed using if __name__ == '__main__':.\n",
        "\n",
        "\n",
        "\n",
        "# Function to get user input and display message"
      ]
    },
    {
      "cell_type": "code",
      "execution_count": null,
      "metadata": {
        "id": "NtYPUligVZd3"
      },
      "outputs": [],
      "source": [
        "# Solution\n",
        "\n",
        "def main():\n",
        "    animal = input(\"What's your favorite animal? \")  # Taking user input\n",
        "    print(f\"My favorite animal is also {animal}!\")  # Displaying response\n",
        "\n",
        "# Required to run the main function\n",
        "if __name__ == '__main__':\n",
        "    main()"
      ]
    },
    {
      "cell_type": "markdown",
      "source": [
        "# **03_fahrenheit_to_celsius.md**\n",
        "# Problem Statement\n",
        "# Write a program which prompts the user for a temperature in Fahrenheit (this can be a number with decimal places!) and outputs the temperature converted to Celsius.\n",
        "\n",
        "# The Celsius scale is widely used to measure temperature, but places still use Fahrenheit. Fahrenheit is another unit for temperature, but the scale is different from Celsius -- for example, 0 degrees Celsius is 32 degrees Fahrenheit!\n",
        "\n",
        "# The equation you should use for converting from Fahrenheit to Celsius is the following:\n",
        "\n",
        "# degrees_celsius = (degrees_fahrenheit - 32) * 5.0/9.0\n",
        "\n",
        "# (Note. The .0 after the 5 and 9 matters in the line above!!!)\n",
        "\n",
        "# Here's a sample run of the program (user input is in bold italics):\n",
        "\n",
        "# Enter temperature in Fahrenheit: 76\n",
        "\n",
        "# Temperature: 76.0F = 24.444444444444443C\n",
        "\n",
        "# Approach & Explanation\n",
        "\n",
        "# We will use the input() function to take user input.\n",
        "\n",
        "# Convert the user input from a string to a floating-point number.\n",
        "\n",
        "# Use the conversion formula to compute the Celsius temperature.\n",
        "\n",
        "# Display the output using formatted strings (f-string) for readability.\n",
        "\n",
        "# The main() function will contain the logic, and the program will be executed using if __name__ == '__main__':.\n",
        "\n",
        "# Function to convert Fahrenheit to Celsius and display result"
      ],
      "metadata": {
        "id": "W65Be5DwhyMk"
      }
    },
    {
      "cell_type": "code",
      "source": [
        "# Solution\n",
        "\n",
        "def main():\n",
        "    degrees_fahrenheit = float(input(\"Enter temperature in Fahrenheit: \"))  # Taking user input\n",
        "    degrees_celsius = (degrees_fahrenheit - 32) * 5.0 / 9.0  # Conversion formula\n",
        "    print(f\"Temperature: {degrees_fahrenheit}F = {degrees_celsius}C\")  # Displaying result\n",
        "\n",
        "# Required to run the main function\n",
        "if __name__ == '__main__':\n",
        "    main()"
      ],
      "metadata": {
        "id": "FgmluZofh992"
      },
      "execution_count": null,
      "outputs": []
    },
    {
      "cell_type": "markdown",
      "source": [
        "# **04_how_old_are_they.md**\n",
        "\n",
        "# Problem Statement\n",
        "\n",
        "# Write a Python program that determines the ages of Anton, Beth, Chen, Drew, and Ethan based on the given conditions:\n",
        "\n",
        "# Anton is 21 years old.\n",
        "\n",
        "# Beth is 6 years older than Anton.\n",
        "\n",
        "# Chen is 20 years older than Beth.\n",
        "\n",
        "# Drew is as old as Chen's age plus Anton's age.\n",
        "\n",
        "# Ethan is the same age as Chen.\n",
        "\n",
        "# The program should store each person's age in a variable and print their names and ages in the correct format.\n",
        "\n",
        "# Function to calculate and display ages"
      ],
      "metadata": {
        "id": "05urL3C2iCTV"
      }
    },
    {
      "cell_type": "code",
      "source": [
        "\n",
        "# Solution\n",
        "\n",
        "def main():\n",
        "    anton = 21  # Anton's age\n",
        "    beth = anton + 6  # Beth is 6 years older than Anton\n",
        "    chen = beth + 20  # Chen is 20 years older than Beth\n",
        "    drew = chen + anton  # Drew is as old as Chen's age plus Anton's age\n",
        "    ethan = chen  # Ethan is the same age as Chen\n",
        "\n",
        "    # Print the ages\n",
        "    print(f\"Anton is {anton}\")\n",
        "    print(f\"Beth is {beth}\")\n",
        "    print(f\"Chen is {chen}\")\n",
        "    print(f\"Drew is {drew}\")\n",
        "    print(f\"Ethan is {ethan}\")\n",
        "\n",
        "# Required to run the main function\n",
        "if __name__ == '__main__':\n",
        "    main()"
      ],
      "metadata": {
        "id": "I1oS5zsWiMHm"
      },
      "execution_count": null,
      "outputs": []
    },
    {
      "cell_type": "markdown",
      "source": [
        "# **05_triangle_perimeter.md**\n",
        "# Triangle Perimeter Calculation\n",
        "# Problem Statement\n",
        "# Prompt the user to enter the lengths of each side of a triangle and then calculate and print the perimeter of the triangle (the sum of all of the side lengths).\n",
        "\n",
        "# Here's a sample run of the program (user input is in bold italics):\n",
        "\n",
        "# What is the length of side 1? 3\n",
        "\n",
        "# What is the length of side 2? 4\n",
        "\n",
        "# What is the length of side 3? 5.5\n",
        "\n",
        "# The perimeter of the triangle is 12.5\n",
        "\n",
        "\n",
        "# Function to calculate and display the perimeter of a triangle"
      ],
      "metadata": {
        "id": "jcV7ZBdciSV6"
      }
    },
    {
      "cell_type": "code",
      "source": [
        "# Solution\n",
        "\n",
        "def main():\n",
        "    # Get the 3 side lengths of the triangle\n",
        "    side1 = float(input(\"What is the length of side 1? \"))\n",
        "    side2 = float(input(\"What is the length of side 2? \"))\n",
        "    side3 = float(input(\"What is the length of side 3? \"))\n",
        "\n",
        "    # Calculate perimeter\n",
        "    perimeter = side1 + side2 + side3\n",
        "\n",
        "    # Print the perimeter\n",
        "    print(f\"The perimeter of the triangle is {perimeter}\")\n",
        "\n",
        "# Required to run the main function\n",
        "if __name__ == '__main__':\n",
        "    main()"
      ],
      "metadata": {
        "id": "FDOSvuLOibyO"
      },
      "execution_count": null,
      "outputs": []
    },
    {
      "cell_type": "markdown",
      "source": [
        "# **06_square_number.md**\n",
        "# Problem Statement\n",
        "# Ask the user for a number and print its square (the product of the number times itself).\n",
        "\n",
        "# Here's a sample run of the program (user input is in bold italics):\n",
        "\n",
        "# Type a number to see its square: 4\n",
        "\n",
        "# 4.0 squared is 16.0\n"
      ],
      "metadata": {
        "id": "fdii4DjQif8A"
      }
    },
    {
      "cell_type": "code",
      "source": [
        "# Solution\n",
        "\n",
        "def main():\n",
        "    num = float(input(\"Type a number to see its square: \"))\n",
        "    print(f\"{num} squared is {num ** 2}\")\n",
        "\n",
        "if __name__ == '__main__':\n",
        "    main()\n"
      ],
      "metadata": {
        "id": "3YaDRbW-io3J"
      },
      "execution_count": null,
      "outputs": []
    }
  ],
  "metadata": {
    "colab": {
      "provenance": [],
      "mount_file_id": "1EzHXWuN5CSmDb84G_kabs3eRHbOCmOwo",
      "authorship_tag": "ABX9TyPg9/6xbKWzCuM3KSLpQYy4",
      "include_colab_link": true
    },
    "kernelspec": {
      "display_name": "Python 3",
      "name": "python3"
    },
    "language_info": {
      "name": "python"
    }
  },
  "nbformat": 4,
  "nbformat_minor": 0
}