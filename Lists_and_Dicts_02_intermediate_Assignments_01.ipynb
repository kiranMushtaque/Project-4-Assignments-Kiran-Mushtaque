{
  "nbformat": 4,
  "nbformat_minor": 0,
  "metadata": {
    "colab": {
      "provenance": [],
      "authorship_tag": "ABX9TyMqY+jBxYZqQo0r+CmfZTjK",
      "include_colab_link": true
    },
    "kernelspec": {
      "name": "python3",
      "display_name": "Python 3"
    },
    "language_info": {
      "name": "python"
    }
  },
  "cells": [
    {
      "cell_type": "markdown",
      "metadata": {
        "id": "view-in-github",
        "colab_type": "text"
      },
      "source": [
        "<a href=\"https://colab.research.google.com/github/kiranMushtaque/Project-4-Assignments-Kiran-Mushtaque/blob/main/Lists_and_Dicts_02_intermediate_Assignments_01.ipynb\" target=\"_parent\"><img src=\"https://colab.research.google.com/assets/colab-badge.svg\" alt=\"Open In Colab\"/></a>"
      ]
    },
    {
      "cell_type": "markdown",
      "source": [
        "# **02_intermediate**\n",
        "# **Lists and Dicts**\n",
        "\n",
        "# **handout**\n",
        "# Problem #1: List Practice\n",
        "\n",
        "Now practice writing code with lists! Implement the functionality described in the comments below.\n",
        "\n",
        "def main():\n",
        "    # Create a list called `fruit_list` that contains the following fruits:\n",
        "    # 'apple', 'banana', 'orange', 'grape', 'pineapple'.\n",
        "    \n",
        "    \n",
        "    # Print the length of the list.\n",
        "\n",
        "    \n",
        "    # Add 'mango' at the end of the list.\n",
        "\n",
        "\n",
        "    # Print the updated list.\n",
        "\n",
        "\n",
        "# Problem #2: Index Game\n",
        "\n",
        "As a warmup, read this code and play the game a few times. Use this mental model of the list:\n",
        "## Objective:\n",
        "Create a Python program that helps you practice accessing and manipulating elements in a list. This exercise will help you get comfortable with indexing, slicing, and modifying list elements.\n",
        "\n",
        "## Instructions:\n",
        "### Initialize a List:\n",
        "Create a list with at least 5 different elements. They can be numbers, strings, or a mix of both.\n",
        "\n",
        "### Accessing Elements:\n",
        "Write a function that:\n",
        "- Accepts a list and an index as inputs.\n",
        "- Returns the element at the specified index.\n",
        "- If the index is out of range, return an appropriate message.\n",
        "\n",
        "### Modifying Elements:\n",
        "Write a function that:\n",
        "- Accepts a list, an index, and a new value as inputs.\n",
        "- Replaces the element at the specified index with the new value.\n",
        "- If the index is out of range, return an appropriate message.\n",
        "\n",
        "### Slicing the List:\n",
        "Write a function that:\n",
        "- Accepts a list, a start index, and an end index as inputs.\n",
        "- Returns a new list containing the elements from the start index up to (but not including) the end index.\n",
        "- Handles cases where the indices are out of range.\n",
        "\n",
        "### Game Interaction:\n",
        "Create a simple text-based game that:\n",
        "- Prompts the user to select an operation (access, modify, slice).\n",
        "- Asks for the necessary inputs (index, new value, etc.).\n",
        "- Displays the result and the updated list."
      ],
      "metadata": {
        "id": "YCOLI0lRK6Sr"
      }
    },
    {
      "cell_type": "code",
      "source": [
        "#Solution for Problem #1: List Practice\n",
        "def main():\n",
        "    # Create a list called `fruit_list` that contains the following fruits:\n",
        "    fruit_list = ['apple', 'banana', 'orange', 'grape', 'pineapple']\n",
        "\n",
        "    # Print the length of the list.\n",
        "    print(\"Length of the fruit list:\", len(fruit_list))\n",
        "\n",
        "    # Add 'mango' at the end of the list.\n",
        "    fruit_list.append('mango')\n",
        "\n",
        "    # Print the updated list.\n",
        "    print(\"Updated fruit list:\", fruit_list)\n",
        "\n",
        "if __name__ == \"__main__\":\n",
        "    main()\n"
      ],
      "metadata": {
        "colab": {
          "base_uri": "https://localhost:8080/"
        },
        "id": "Kt7V-NtyLdeb",
        "outputId": "a6e8998a-8973-4620-9d31-63db9ec651d8"
      },
      "execution_count": 2,
      "outputs": [
        {
          "output_type": "stream",
          "name": "stdout",
          "text": [
            "Length of the fruit list: 5\n",
            "Updated fruit list: ['apple', 'banana', 'orange', 'grape', 'pineapple', 'mango']\n"
          ]
        }
      ]
    },
    {
      "cell_type": "code",
      "source": [
        " #Solution for Problem #2: Index Game\n",
        " def get_element(lst, index):\n",
        "    \"\"\"Returns the element at the specified index or an error message if out of range.\"\"\"\n",
        "    if 0 <= index < len(lst):\n",
        "        return lst[index]\n",
        "    else:\n",
        "        return \"Index out of range!\"\n",
        "\n",
        "def modify_element(lst, index, new_value):\n",
        "    \"\"\"Modifies the element at the specified index or returns an error if out of range.\"\"\"\n",
        "    if 0 <= index < len(lst):\n",
        "        lst[index] = new_value\n",
        "        return \"Element modified successfully!\"\n",
        "    else:\n",
        "        return \"Index out of range!\"\n",
        "\n",
        "def slice_list(lst, start, end):\n",
        "    \"\"\"Returns a sliced portion of the list from start index to end index (exclusive).\"\"\"\n",
        "    if 0 <= start < len(lst) and 0 <= end <= len(lst):\n",
        "        return lst[start:end]\n",
        "    else:\n",
        "        return \"Invalid index range!\"\n",
        "\n",
        "def main():\n",
        "    my_list = [\"apple\", \"banana\", \"cherry\", \"date\", \"fig\", \"grape\"]\n",
        "\n",
        "    while True:\n",
        "        print(\"\\nList:\", my_list)\n",
        "        print(\"Choose an operation: \")\n",
        "        print(\"1 - Access an element\")\n",
        "        print(\"2 - Modify an element\")\n",
        "        print(\"3 - Slice the list\")\n",
        "        print(\"4 - Exit\")\n",
        "\n",
        "        choice = input(\"Enter your choice (1-4): \")\n",
        "\n",
        "        if choice == \"1\":\n",
        "            index = int(input(\"Enter the index to access: \"))\n",
        "            print(\"Result:\", get_element(my_list, index))\n",
        "\n",
        "        elif choice == \"2\":\n",
        "            index = int(input(\"Enter the index to modify: \"))\n",
        "            new_value = input(\"Enter the new value: \")\n",
        "            print(\"Result:\", modify_element(my_list, index, new_value))\n",
        "\n",
        "        elif choice == \"3\":\n",
        "            start = int(input(\"Enter the start index: \"))\n",
        "            end = int(input(\"Enter the end index: \"))\n",
        "            print(\"Sliced list:\", slice_list(my_list, start, end))\n",
        "\n",
        "        elif choice == \"4\":\n",
        "            print(\"Exiting the game. Goodbye!\")\n",
        "            break\n",
        "\n",
        "        else:\n",
        "            print(\"Invalid choice! Please enter a number between 1 and 4.\")\n",
        "\n",
        "if __name__ == \"__main__\":\n",
        "    main()\n"
      ],
      "metadata": {
        "colab": {
          "base_uri": "https://localhost:8080/"
        },
        "id": "ZMeZusdTLo4F",
        "outputId": "39908d23-36bb-43e7-f025-aed65c6ca8b7"
      },
      "execution_count": null,
      "outputs": [
        {
          "output_type": "stream",
          "name": "stdout",
          "text": [
            "\n",
            "List: ['apple', 'banana', 'cherry', 'date', 'fig', 'grape']\n",
            "Choose an operation: \n",
            "1 - Access an element\n",
            "2 - Modify an element\n",
            "3 - Slice the list\n",
            "4 - Exit\n"
          ]
        }
      ]
    }
  ]
}