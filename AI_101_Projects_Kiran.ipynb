{
  "nbformat": 4,
  "nbformat_minor": 0,
  "metadata": {
    "colab": {
      "provenance": [],
      "authorship_tag": "ABX9TyPdkUdITSfCvmWdk5FHJ+6w",
      "include_colab_link": true
    },
    "kernelspec": {
      "name": "python3",
      "display_name": "Python 3"
    },
    "language_info": {
      "name": "python"
    }
  },
  "cells": [
    {
      "cell_type": "markdown",
      "metadata": {
        "id": "view-in-github",
        "colab_type": "text"
      },
      "source": [
        "<a href=\"https://colab.research.google.com/github/kiranMushtaque/Project-4-Assignments-Kiran-Mushtaque/blob/main/AI_101_Projects_Kiran.ipynb\" target=\"_parent\"><img src=\"https://colab.research.google.com/assets/colab-badge.svg\" alt=\"Open In Colab\"/></a>"
      ]
    },
    {
      "cell_type": "markdown",
      "source": [
        "## **AI-101 Compulsory Projects**"
      ],
      "metadata": {
        "id": "QTkMr4pRdt03"
      }
    },
    {
      "cell_type": "markdown",
      "source": [
        "# **Project 1: Mad Libs Game**"
      ],
      "metadata": {
        "id": "VGWZEBoCdzFR"
      }
    },
    {
      "cell_type": "markdown",
      "source": [
        "## **Simple Mad Libs game in Python**"
      ],
      "metadata": {
        "id": "lVXvT3CUd8Lb"
      }
    },
    {
      "cell_type": "code",
      "source": [
        "print(\"Mad Libs Generator\")\n",
        "noun = input(\"Enter a noun: \")\n",
        "adjective = input(\"Enter an adjective: \")\n",
        "verb = input(\"Enter a verb: \")\n",
        "print(f\"The {adjective} {noun} loves to {verb} all day!\")"
      ],
      "metadata": {
        "colab": {
          "base_uri": "https://localhost:8080/"
        },
        "id": "U3XuO9mQd_MP",
        "outputId": "c7dd3457-5642-437a-b486-b78a7ee97dba"
      },
      "execution_count": null,
      "outputs": [
        {
          "output_type": "stream",
          "name": "stdout",
          "text": [
            "Mad Libs Generator\n"
          ]
        }
      ]
    },
    {
      "cell_type": "markdown",
      "source": [
        "# **Project 2: Guess the Number Game Python Project (computer)**"
      ],
      "metadata": {
        "id": "aiylOZZoeO_c"
      }
    },
    {
      "cell_type": "code",
      "source": [
        "import random\n",
        "number = random.randint(1, 100)\n",
        "guess = None\n",
        "while guess != number:\n",
        "    guess = int(input(\"Guess a number (1-100): \"))\n",
        "    if guess < number:\n",
        "        print(\"Too low!\")\n",
        "    elif guess > number:\n",
        "        print(\"Too high!\")\n",
        "    else:\n",
        "        print(\"You guessed it!\")"
      ],
      "metadata": {
        "id": "rytM6HwAeV2o"
      },
      "execution_count": null,
      "outputs": []
    },
    {
      "cell_type": "markdown",
      "source": [
        "# **Project 3: Guess the Number Game Python Project (user)**"
      ],
      "metadata": {
        "id": "hT-QDkZtebsK"
      }
    },
    {
      "cell_type": "code",
      "source": [
        "import random\n",
        "number = int(input(\"Think of a number between 1 and 100 and I'll guess it: \"))\n",
        "low, high = 1, 100\n",
        "guess = None\n",
        "while guess != number:\n",
        "    guess = (low + high) // 2\n",
        "    print(f\"Is it {guess}? (h/l/c)\")\n",
        "    feedback = input()\n",
        "    if feedback == 'h':\n",
        "        high = guess - 1\n",
        "    elif feedback == 'l':\n",
        "        low = guess + 1\n",
        "    else:\n",
        "        print(\"I guessed it!\")\n",
        "        break"
      ],
      "metadata": {
        "id": "MSpg6HpgehLq"
      },
      "execution_count": null,
      "outputs": []
    },
    {
      "cell_type": "markdown",
      "source": [
        "# **Project 4: Rock, paper, scissors Python Project**\n"
      ],
      "metadata": {
        "id": "9LfkxtUneoRf"
      }
    },
    {
      "cell_type": "code",
      "source": [
        "\n",
        "import random\n",
        "choices = [\"rock\", \"paper\", \"scissors\"]\n",
        "player = input(\"Choose rock, paper, or scissors: \")\n",
        "computer = random.choice(choices)\n",
        "print(f\"Computer chose {computer}\")\n",
        "if player == computer:\n",
        "    print(\"It's a tie!\")\n",
        "elif (player == \"rock\" and computer == \"scissors\") or (player == \"scissors\" and computer == \"paper\") or (player == \"paper\" and computer == \"rock\"):\n",
        "    print(\"You win!\")\n",
        "else:\n",
        "    print(\"You lose!\")"
      ],
      "metadata": {
        "id": "6llevMEfevo6"
      },
      "execution_count": null,
      "outputs": []
    },
    {
      "cell_type": "markdown",
      "source": [
        "# **Project 5: Hangman Python Project**"
      ],
      "metadata": {
        "id": "tIVBsm2ae0nE"
      }
    },
    {
      "cell_type": "code",
      "source": [
        "import random\n",
        "words = [\"python\", \"streamlit\", \"colab\", \"artificial\"]\n",
        "word = random.choice(words)\n",
        "guesses = \"\"\n",
        "turns = 6\n",
        "while turns > 0:\n",
        "    missed = 0\n",
        "    for letter in word:\n",
        "        if letter in guesses:\n",
        "            print(letter, end=\" \")\n",
        "        else:\n",
        "            print(\"_\", end=\" \")\n",
        "            missed += 1\n",
        "    print()\n",
        "    if missed == 0:\n",
        "        print(\"You won!\")\n",
        "        break\n",
        "    guess = input(\"Guess a letter: \")\n",
        "    guesses += guess\n",
        "    if guess not in word:\n",
        "        turns -= 1\n",
        "        print(f\"Wrong! {turns} turns left.\")\n",
        "        if turns == 0:\n",
        "            print(\"You lost! The word was\", word)"
      ],
      "metadata": {
        "id": "LfRHZf4ie9OE"
      },
      "execution_count": null,
      "outputs": []
    },
    {
      "cell_type": "markdown",
      "source": [
        "# **Project 6: Countdown Timer Python Project**\n"
      ],
      "metadata": {
        "id": "pA1KR-9re-bg"
      }
    },
    {
      "cell_type": "code",
      "source": [
        "import time\n",
        "seconds = int(input(\"Enter countdown time in seconds: \"))\n",
        "while seconds:\n",
        "    print(f\"Time left: {seconds} seconds\")\n",
        "    time.sleep(1)\n",
        "    seconds -= 1\n",
        "print(\"Time's up!\")"
      ],
      "metadata": {
        "id": "IfeR2pzIfFPs"
      },
      "execution_count": null,
      "outputs": []
    },
    {
      "cell_type": "markdown",
      "source": [
        "# **Project 7: Password Generator Python Project**"
      ],
      "metadata": {
        "id": "y_FwIzUvfLZ_"
      }
    },
    {
      "cell_type": "code",
      "source": [
        "import random\n",
        "import string\n",
        "def generate_password(length=12):\n",
        "    chars = string.ascii_letters + string.digits + string.punctuation\n",
        "    return ''.join(random.choice(chars) for _ in range(length))\n",
        "print(\"Generated Password:\", generate_password())"
      ],
      "metadata": {
        "id": "w7O19yX9fPvQ"
      },
      "execution_count": null,
      "outputs": []
    },
    {
      "cell_type": "markdown",
      "source": [
        "# **Project 8: Create a Python Streamlit BMI Calculator Web App in Just 6 Minutes**"
      ],
      "metadata": {
        "id": "OUbhZ6a7fWAY"
      }
    },
    {
      "cell_type": "code",
      "source": [
        "import streamlit as st\n",
        "st.title(\"BMI Calculator\")\n",
        "weight = st.number_input(\"Enter your weight (kg)\")\n",
        "height = st.number_input(\"Enter your height (m)\")\n",
        "if st.button(\"Calculate\"):\n",
        "    bmi = weight / (height ** 2)\n",
        "    st.write(f\"Your BMI is {bmi:.2f}\")"
      ],
      "metadata": {
        "id": "HDm9fh5Rfa4N"
      },
      "execution_count": null,
      "outputs": []
    },
    {
      "cell_type": "markdown",
      "source": [
        "\n",
        "# **Project 9: Build a Python Website in 15 Minutes With Streamlit**"
      ],
      "metadata": {
        "id": "1kSEqtn4ffet"
      }
    },
    {
      "cell_type": "code",
      "source": [
        "import streamlit as st\n",
        "st.title(\"Simple Python Web App\")\n",
        "st.write(\"Hello! This is a web app built with Streamlit.\")\n",
        "name = st.text_input(\"What's your name?\")\n",
        "if name:\n",
        "    st.write(f\"Welcome, {name}!\")"
      ],
      "metadata": {
        "id": "1ePJTmCDfkz1"
      },
      "execution_count": null,
      "outputs": []
    }
  ]
}